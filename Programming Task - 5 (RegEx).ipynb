{
 "cells": [
  {
   "cell_type": "markdown",
   "id": "871e7ce7",
   "metadata": {},
   "source": [
    "#### task_1:You are given a string .Your task is to verify that  is a floating point number."
   ]
  },
  {
   "cell_type": "code",
   "execution_count": 1,
   "id": "77850e0d",
   "metadata": {},
   "outputs": [
    {
     "name": "stdout",
     "output_type": "stream",
     "text": [
      "4\n",
      "4.000\n",
      "True\n",
      "-1.000\n",
      "True\n",
      "+4.54\n",
      "True\n",
      "somerandom\n",
      "False\n"
     ]
    }
   ],
   "source": [
    "\n",
    "#import sys\n",
    "\n",
    "if __name__ == '__main__':\n",
    "\n",
    "    n = int(input())\n",
    "    \n",
    "for i in range (1, n+1):\n",
    "\n",
    "    def float_num():\n",
    "\n",
    "        N = input()\n",
    "\n",
    "        if bool(re.search(r\"^[+-]?\\d*\\.\\d+$\", N)) and float(N) != None:\n",
    "\n",
    "                return True\n",
    "\n",
    "        else:\n",
    "            return False\n",
    "\n",
    "    x = float_num()\n",
    "\n",
    "    print(x)"
   ]
  },
  {
   "cell_type": "markdown",
   "id": "3dd64d9a",
   "metadata": {},
   "source": [
    "#### Task_2:You are given a string s consisting only of digits 0-9, commas ,, and dots .Your task is to complete the regex_pattern defined below, which will be used to re.split() all of the , and . symbols in s.It’s guaranteed that every comma and every dot in s is preceeded and followed by a digit.\n"
   ]
  },
  {
   "cell_type": "code",
   "execution_count": 2,
   "id": "e9e401a6",
   "metadata": {},
   "outputs": [
    {
     "name": "stdout",
     "output_type": "stream",
     "text": [
      "100,000,000.000\n",
      "100\n",
      "000\n",
      "000\n",
      "000\n"
     ]
    }
   ],
   "source": [
    "regex_pattern = r\"[.,]+\"\n",
    "\n",
    "print(\"\\n\".join(re.split(regex_pattern, input())))"
   ]
  },
  {
   "cell_type": "markdown",
   "id": "f82ef4fa",
   "metadata": {},
   "source": [
    "#### Task_3:You are given a string S. It consists of alphanumeric characters, spaces and symbols(+,-).Your task is to find all the substrings of S that contains 2 or more vowels.\n",
    "#### Also, these substrings must lie in between 2 consonants and should contain vowels only.\n",
    "#### Note :Vowels are defined as: AEIOU and aeiou.\n",
    "##### Consonants are defined as: QWRTYPSDFGHJKLZXCVBNM and qwrtypsdfghjklzxcvbnm.\n",
    "\n"
   ]
  },
  {
   "cell_type": "code",
   "execution_count": null,
   "id": "dd2fc1bf",
   "metadata": {},
   "outputs": [],
   "source": [
    "\n",
    "Storage = re.findall(r'(?<=[qwrtypsdfghjklzxcvbnm])([aeiou]{2,})(?=[qwrtypsdfghjklzxcvbnm])', input().strip(), re.IGNORECASE)\n",
    "\n",
    "if Storage:\n",
    "    for i in Storage:\n",
    "        print(i)\n",
    "else:\n",
    "    print(-1)"
   ]
  },
  {
   "cell_type": "markdown",
   "id": "a116e672",
   "metadata": {},
   "source": [
    "#### Task_4:You are given a string S. Your task is to find the indices of the start and end of string K in S."
   ]
  },
  {
   "cell_type": "code",
   "execution_count": 3,
   "id": "3c280b88",
   "metadata": {},
   "outputs": [
    {
     "name": "stdout",
     "output_type": "stream",
     "text": [
      "aaadaa\n",
      "aa\n",
      "(0, 1)\n",
      "(1, 2)\n",
      "(4, 5)\n"
     ]
    }
   ],
   "source": [
    "S = input()\n",
    "k = input()\n",
    "import re\n",
    "pattern = re.compile(k)\n",
    "r = pattern.search(S)\n",
    "if not r: print(\"(-1, -1)\")\n",
    "while r:\n",
    "    print(\"({0}, {1})\".format(r.start(), r.end() - 1))\n",
    "    r = pattern.search(S,r.start() + 1)"
   ]
  },
  {
   "cell_type": "markdown",
   "id": "06bb0d31",
   "metadata": {},
   "source": [
    "#### Task_6:You are given a text of lines. The text contains && and || symbols. Your task is to modify those symbols to and, or words."
   ]
  },
  {
   "cell_type": "code",
   "execution_count": 4,
   "id": "c127c159",
   "metadata": {},
   "outputs": [
    {
     "name": "stdout",
     "output_type": "stream",
     "text": [
      "11\n",
      "a = 1;\n",
      "a = 1;\n",
      "b = input();\n",
      "b = input();\n",
      "if a + b > 0 && a - b < 0:\n",
      "if a + b > 0 and a - b < 0:\n",
      "start()\n",
      "start()\n",
      "elif a*b > 10 || a/b < 1:\n",
      "elif a*b > 10 or a/b < 1:\n",
      "stop()\n",
      "stop()\n",
      "print set(list(a)) | set(list(b))\n",
      "print set(list(a)) | set(list(b))\n",
      "#Note do not change &&& or ||| or & or |\n",
      "#Note do not change &&& or ||| or & or |\n",
      "#Only change those '&&' which have space on both sides.\n",
      "#Only change those '&&' which have space on both sides.\n",
      "#Only change those '|| which have space on both sides\n",
      "#Only change those '|| which have space on both sides\n",
      "#Only change those '|| which have space on both sides.\n",
      "#Only change those '|| which have space on both sides.\n"
     ]
    }
   ],
   "source": [
    "import re\n",
    "\n",
    "ii = int(input())\n",
    "\n",
    "for i in range(0,ii):\n",
    "   txt = input()\n",
    "   txt = re.sub(r\"\\ \\&\\&\\ \",\" and \",txt)\n",
    "   txt = re.sub(r\"\\ \\|\\|\\ \",\" or \",txt)\n",
    "   txt = re.sub(r\"\\ \\&\\&\\ \",\" and \",txt)\n",
    "   txt = re.sub(r\"\\ \\|\\|\\ \",\" or \",txt)\n",
    "   print(txt)"
   ]
  },
  {
   "cell_type": "markdown",
   "id": "6d0f618e",
   "metadata": {},
   "source": [
    "#### Task_7:You are given a string, and you have to validate whether it's a valid Roman numeral. If it is valid, print True. Otherwise, print False. Try to create a regular expression for a valid Roman numeral"
   ]
  },
  {
   "cell_type": "code",
   "execution_count": 5,
   "id": "bf7835da",
   "metadata": {},
   "outputs": [
    {
     "name": "stdout",
     "output_type": "stream",
     "text": [
      "CDXXI\n",
      "True\n"
     ]
    }
   ],
   "source": [
    "thousand = 'M{0,3}'\n",
    "hundred = '(C[MD]|D?C{0,3})'\n",
    "ten = '(X[CL]|L?X{0,3})'\n",
    "digit = '(I[VX]|V?I{0,3})'\n",
    "regex_pattern = r\"%s%s%s%s$\" % (thousand, hundred, ten, digit)\n",
    "\n",
    "import re\n",
    "print(str(bool(re.match(regex_pattern, input()))))"
   ]
  },
  {
   "cell_type": "markdown",
   "id": "dc36d192",
   "metadata": {},
   "source": [
    "#### Task_8:You are given some input, and you are required to check whether they are valid mobile numbers.A valid mobile number is a ten digit number starting with a 7, 8 or 9.\n"
   ]
  },
  {
   "cell_type": "code",
   "execution_count": 7,
   "id": "6d4b3ba6",
   "metadata": {},
   "outputs": [
    {
     "name": "stdout",
     "output_type": "stream",
     "text": [
      "2\n",
      "9587456281\n",
      "YES\n",
      "1252478965\n",
      "NO\n"
     ]
    }
   ],
   "source": [
    "N = int(input())\n",
    "\n",
    "for i in range(N):\n",
    "    number = input()\n",
    "    if(len(number)==10 and number.isdigit()):\n",
    "        output = re.findall(r\"^[789]\\d{9}$\",number)\n",
    "        if(len(output)==1):\n",
    "            print(\"YES\")\n",
    "        else:\n",
    "            print(\"NO\")\n",
    "    else:\n",
    "        print(\"NO\")"
   ]
  },
  {
   "cell_type": "markdown",
   "id": "7ebcc16c",
   "metadata": {},
   "source": [
    "#### Task_9:Given n pairs of names and email addresses as input, print each name and email address pair having a valid email address on a new line.\n",
    "#### Hint : Try using Email.utils() to complete this challenge. For example, this code:"
   ]
  },
  {
   "cell_type": "code",
   "execution_count": 9,
   "id": "a69bf21c",
   "metadata": {},
   "outputs": [
    {
     "name": "stdout",
     "output_type": "stream",
     "text": [
      "2\n",
      "DEXTER <dexter@hotmail.com>\n",
      "DEXTER <dexter@hotmail.com>\n",
      "VIRUS <virus!@variable.:p>\n"
     ]
    }
   ],
   "source": [
    "import re\n",
    "n = int(input())\n",
    "for _ in range(n):\n",
    "    x, y = input().split(' ')\n",
    "    m = re.match(r'<[A-Za-z](\\w|-|\\.|_)+@[A-Za-z]+\\.[A-Za-z]{1,3}>', y)\n",
    "    if m:\n",
    "        print(x,y)"
   ]
  },
  {
   "cell_type": "markdown",
   "id": "8af28143",
   "metadata": {},
   "source": [
    "#### Task_10:You are given N lines of CSS code. Your task is to print all valid Hex Color Codes, in order of their occurrence from top to bottom.\n",
    "\n"
   ]
  },
  {
   "cell_type": "code",
   "execution_count": 11,
   "id": "e0abdc89",
   "metadata": {},
   "outputs": [
    {
     "name": "stdout",
     "output_type": "stream",
     "text": [
      "11\n",
      "#BED\n",
      "{\n",
      "color: #FfFdF8; background-\n",
      "#FfFdF8\n",
      "color:#aef;\n",
      "#aef\n",
      "    font-size: 123px;\n",
      "}\n",
      "#Cab\n",
      "{\n",
      "background-color: #ABC;\n",
      "#ABC\n",
      "border: 2px dashed #fff;\n",
      "#fff\n",
      "}\n"
     ]
    }
   ],
   "source": [
    "T = int(input())\n",
    "in_css = False\n",
    "for _ in range(T):\n",
    "    s = input()\n",
    "    if '{' in s:\n",
    "        in_css = True\n",
    "    elif '}' in s:\n",
    "        in_css = False\n",
    "    elif in_css:\n",
    "        for color in re.findall('#[0-9a-fA-F]{3,6}', s):\n",
    "            print(color)"
   ]
  },
  {
   "cell_type": "markdown",
   "id": "e2d32ff2",
   "metadata": {},
   "source": [
    "#### Task_11:You are given an HTML code snippet of N lines.Your task is to print start tags, end tags and empty tags separately."
   ]
  },
  {
   "cell_type": "code",
   "execution_count": 12,
   "id": "862aee53",
   "metadata": {},
   "outputs": [
    {
     "name": "stdout",
     "output_type": "stream",
     "text": [
      "2\n",
      "<html><head><title>HTML Parser - I</title></head>\n",
      "Start : html\n",
      "Start : head\n",
      "Start : title\n",
      "End   : title\n",
      "End   : head\n",
      "<body data-modal-target class='1'><h1>HackerRank</h1><br /></body></html>\n",
      "Start : body\n",
      "-> data-modal-target > None\n",
      "-> class > 1\n",
      "Start : h1\n",
      "End   : h1\n",
      "Empty : br\n",
      "End   : body\n",
      "End   : html\n"
     ]
    }
   ],
   "source": [
    "from html.parser import HTMLParser\n",
    "\n",
    "class MyHTMLParser(HTMLParser):\n",
    "    def handle_starttag(self, tag, attrs):\n",
    "        print ('Start :', tag)\n",
    "        for ele in attrs:\n",
    "            print ('->', ele[0], '>', ele[1])\n",
    "\n",
    "    def handle_endtag(self, tag):\n",
    "        print ('End   :', tag)\n",
    "\n",
    "    def handle_startendtag(self, tag, attrs):\n",
    "        print ('Empty :', tag)\n",
    "        for ele in attrs:\n",
    "            print ('->', ele[0], '>', ele[1])\n",
    "\n",
    "parser = MyHTMLParser()\n",
    "for _ in range(int(input())):\n",
    "    parser.feed(input())"
   ]
  },
  {
   "cell_type": "markdown",
   "id": "ff67dbb3",
   "metadata": {},
   "source": [
    "#### Task_12:You are given an HTML code snippet of N lines.Your task is to print the single-line comments, multi-line comments and the data."
   ]
  },
  {
   "cell_type": "code",
   "execution_count": 14,
   "id": "0a3046e7",
   "metadata": {},
   "outputs": [
    {
     "name": "stdout",
     "output_type": "stream",
     "text": [
      "4\n",
      " <!--[if IE 9]>IE9-specific content\n",
      "<![endif]-->\n",
      "<div> Welcome to HackerRank</div>\n",
      "<!--[if IE 9]>IE9-specific content<![endif]-->\n",
      ">>> Data\n",
      " \n",
      ">>> Multi-line Comment\n",
      "[if IE 9]>IE9-specific content\n",
      "<![endif]\n",
      ">>> Data\n",
      " Welcome to HackerRank\n",
      ">>> Single-line Comment\n",
      "[if IE 9]>IE9-specific content<![endif]\n"
     ]
    }
   ],
   "source": [
    "from html.parser import HTMLParser\n",
    "\n",
    "class MyHTMLParser(HTMLParser):\n",
    "    def handle_comment(self, data):\n",
    "        if '\\n' not in data:\n",
    "            print('>>> Single-line Comment')\n",
    "            print(data)\n",
    "        elif '\\n' in data:\n",
    "            print('>>> Multi-line Comment')\n",
    "            print(data)\n",
    "    def handle_data(self, data):\n",
    "        if data != '\\n':\n",
    "            print('>>> Data')\n",
    "            print(data)\n",
    "html = \"\"       \n",
    "for i in range(int(input())):\n",
    "    html += input().rstrip()\n",
    "    html += '\\n'\n",
    "\n",
    "parser = MyHTMLParser()\n",
    "parser.feed(html)\n",
    "parser.close()"
   ]
  },
  {
   "cell_type": "markdown",
   "id": "e71a074c",
   "metadata": {},
   "source": [
    "#### Task_13:You are given an HTML code snippet of N lines.Your task is to detect and print all the HTML tags, attributes and attribute values"
   ]
  },
  {
   "cell_type": "code",
   "execution_count": 16,
   "id": "053da434",
   "metadata": {},
   "outputs": [
    {
     "name": "stdout",
     "output_type": "stream",
     "text": [
      "9\n",
      "<head>\n",
      "<title>HTML</title>\n",
      "</head>\n",
      "<object type=\"application/x-flash\"\n",
      "data=\"your-file.swf\"\n",
      " width=\"0\" height=\"0\">\n",
      "<!-- <param name=\"movie\" value=\"your-\n",
      "file.swf\" /> -->\n",
      "<param name=\"quality\" value=\"high\"/>\n",
      "head\n",
      "title\n",
      "object\n",
      "-> type > application/x-flash\n",
      "-> data > your-file.swf\n",
      "-> width > 0\n",
      "-> height > 0\n",
      "param\n",
      "-> name > quality\n",
      "-> value > high\n"
     ]
    }
   ],
   "source": [
    "from html.parser import HTMLParser\n",
    "\n",
    "class MyHTMLParser(HTMLParser):\n",
    "    def handle_starttag(self, tag, attrs):\n",
    "        print(tag)\n",
    "        for attr, value in attrs:\n",
    "            print(\"->\", attr, \">\", value)\n",
    "\n",
    "    def handle_startendtag(self, tag, attrs):\n",
    "        print(tag)\n",
    "        for attr, value in attrs:\n",
    "            print(\"->\", attr, \">\", value)\n",
    "\n",
    "html = ''\n",
    "for _ in range(int(input())):\n",
    "    html += input().rstrip() + '\\n'\n",
    "\n",
    "parser = MyHTMLParser()\n",
    "parser.feed(html)\n",
    "parser.close()"
   ]
  },
  {
   "cell_type": "markdown",
   "id": "99ca1428",
   "metadata": {},
   "source": [
    "#### Task_14:ABCXYZ company has up to 100 employees.\n",
    "#### The company decides to create a unique identification number (UID) for each of its employees.\n",
    "#### The company has assigned you the task of validating all the randomly generated UIDs.\n",
    "#### A valid UID must follow the rules below:\n",
    "#### It must contain at least 2 uppercase English alphabet characters.\n",
    "#### It must contain at least 3 digits ( 0 - 9).\n",
    "#### It should only contain alphanumeric characters ( a - z, A - Z & 0 - 9).\n",
    "#### No character should repeat.\n",
    "#### There must be exactly 10 characters in a valid UID"
   ]
  },
  {
   "cell_type": "code",
   "execution_count": 18,
   "id": "1509426a",
   "metadata": {},
   "outputs": [
    {
     "name": "stdout",
     "output_type": "stream",
     "text": [
      "2\n",
      "B1CD102354\n",
      "Invalid\n",
      "B1CDEF2354\n",
      "Valid\n"
     ]
    }
   ],
   "source": [
    "import re\n",
    "\n",
    "for i in range(int(input())):\n",
    "    N = input().strip()\n",
    "    if N.isalnum() and len(N) == 10:\n",
    "        if bool(re.search(r'(.*[A-Z]){2,}',N)) and bool(re.search(r'(.*[0-9]){3,}',N)):\n",
    "            if re.search(r'.*(.).*\\1+.*',N):\n",
    "                print('Invalid')\n",
    "            else:\n",
    "                print('Valid')\n",
    "        else:\n",
    "            print('Invalid')\n",
    "    else:\n",
    "        print('Invalid')"
   ]
  },
  {
   "cell_type": "markdown",
   "id": "b2a58b29",
   "metadata": {},
   "source": [
    "#### Task_15:You and Fredrick are good friends. Yesterday, Fredrick received N credit cards from ABCD Bank. He wants to verify whether his credit card numbers are valid or not. You happen to be great at regex so he is asking for your help!"
   ]
  },
  {
   "cell_type": "code",
   "execution_count": 19,
   "id": "0aec1b3f",
   "metadata": {},
   "outputs": [
    {
     "name": "stdout",
     "output_type": "stream",
     "text": [
      "6\n",
      "4123456789123456\n",
      "Valid\n",
      "5123-4567-8912-3456\n",
      "Valid\n",
      "61234-567-8912-3456\n",
      "Invalid\n",
      "4123356789123456\n",
      "Valid\n",
      "5133-3367-8912-3456\n",
      "Invalid\n",
      "5123 - 3567 - 8912 - 3456\n",
      "Invalid\n"
     ]
    }
   ],
   "source": [
    "\n",
    "# compile the patterns\n",
    "pattern = re.compile(\n",
    "    r'^'\n",
    "    r'(?!.*(\\d)(-?\\1){3})'\n",
    "    r'[456]\\d{3}'\n",
    "    r'(?:-?\\d{4}){3}'\n",
    "    r'$')\n",
    "\n",
    "# using for loop to the input from user \n",
    "for _ in range(int(input().strip())):\n",
    "    \n",
    "    #using pattern to search if the number is valid\n",
    "    print('Valid' if pattern.search(input().strip()) else 'Invalid')"
   ]
  },
  {
   "cell_type": "markdown",
   "id": "7682cffb",
   "metadata": {},
   "source": [
    "#### Task_16:Neo has a complex matrix script. The matrix script is a N X M grid of strings. It consists of alphanumeric characters, spaces and symbols (!,@,#,$,%,&).To decode the script, Neo needs to read each column and select only the alphanumeric characters and connect them. Neo reads the column from top to bottom and starts reading from the leftmost column.If there are symbols or spaces between two alphanumeric characters of the decoded script, then Neo replaces them with a single space '' for better readability.Neo feels that there is no need to use 'if' conditions for decoding.Alphanumeric characters consist of: [A-Z, a-z, and 0-9]."
   ]
  },
  {
   "cell_type": "code",
   "execution_count": 20,
   "id": "cc95a21a",
   "metadata": {},
   "outputs": [
    {
     "name": "stdout",
     "output_type": "stream",
     "text": [
      "7 3\n",
      "Tsi\n",
      "h%x\n",
      "i #\n",
      "sM\n",
      "$a\n",
      "#t%\n",
      "ir!\n",
      "This is Matr\n"
     ]
    }
   ],
   "source": [
    "import math\n",
    "import os\n",
    "import random\n",
    "import re\n",
    "import sys\n",
    "\n",
    "\n",
    "\n",
    "\n",
    "first_multiple_input = input().rstrip().split()\n",
    "\n",
    "n = int(first_multiple_input[0])\n",
    "\n",
    "m = int(first_multiple_input[1])\n",
    "\n",
    "matrix = []\n",
    "\n",
    "for _ in range(n):\n",
    "    matrix_item = input()\n",
    "    matrix.append(matrix_item)\n",
    "matrix = list(zip(*matrix))\n",
    "\n",
    "sample = str()\n",
    "\n",
    "for words in matrix:\n",
    "    for char in words:\n",
    "        sample += char\n",
    "       \n",
    "print(re.sub(r'(?<=\\w)([^\\w\\d]+)(?=\\w)', ' ', sample))"
   ]
  },
  {
   "cell_type": "markdown",
   "id": "a8fd10c0",
   "metadata": {},
   "source": [
    "#### Task_17:You are given a string S.Your task is to find the first occurrence of an alphanumeric character in S(read from left to right) that has consecutive repetitions."
   ]
  },
  {
   "cell_type": "code",
   "execution_count": 22,
   "id": "b87b340d",
   "metadata": {},
   "outputs": [
    {
     "name": "stdout",
     "output_type": "stream",
     "text": [
      "12345678910111213141516171820212223\n",
      "1\n"
     ]
    }
   ],
   "source": [
    "expression=r\"([a-zA-Z0-9])\\1+\"\n",
    "\n",
    "m = re.search(expression,input())\n",
    "\n",
    "if m:\n",
    "    print(m.group(1))\n",
    "else:\n",
    "    print(-1)"
   ]
  },
  {
   "cell_type": "code",
   "execution_count": null,
   "id": "3c9560cc",
   "metadata": {},
   "outputs": [],
   "source": []
  }
 ],
 "metadata": {
  "kernelspec": {
   "display_name": "Python 3 (ipykernel)",
   "language": "python",
   "name": "python3"
  },
  "language_info": {
   "codemirror_mode": {
    "name": "ipython",
    "version": 3
   },
   "file_extension": ".py",
   "mimetype": "text/x-python",
   "name": "python",
   "nbconvert_exporter": "python",
   "pygments_lexer": "ipython3",
   "version": "3.9.12"
  }
 },
 "nbformat": 4,
 "nbformat_minor": 5
}
